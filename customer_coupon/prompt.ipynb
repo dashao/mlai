{
 "cells": [
  {
   "cell_type": "markdown",
   "metadata": {},
   "source": [
    "### Will a Customer Accept the Coupon?\n",
    "\n",
    "**Context**\n",
    "\n",
    "Imagine driving through town and a coupon is delivered to your cell phone for a restaraunt near where you are driving. Would you accept that coupon and take a short detour to the restaraunt? Would you accept the coupon but use it on a sunbsequent trip? Would you ignore the coupon entirely? What if the coupon was for a bar instead of a restaraunt? What about a coffee house? Would you accept a bar coupon with a minor passenger in the car? What about if it was just you and your partner in the car? Would weather impact the rate of acceptance? What about the time of day?\n",
    "\n",
    "Obviously, proximity to the business is a factor on whether the coupon is delivered to the driver or not, but what are the factors that determine whether a driver accepts the coupon once it is delivered to them? How would you determine whether a driver is likely to accept a coupon?\n",
    "\n",
    "**Overview**\n",
    "\n",
    "The goal of this project is to use what you know about visualizations and probability distributions to distinguish between customers who accepted a driving coupon versus those that did not.\n",
    "\n",
    "**Data**\n",
    "\n",
    "This data comes to us from the UCI Machine Learning repository and was collected via a survey on Amazon Mechanical Turk. The survey describes different driving scenarios including the destination, current time, weather, passenger, etc., and then ask the person whether he will accept the coupon if he is the driver. Answers that the user will drive there ‘right away’ or ‘later before the coupon expires’ are labeled as ‘Y = 1’ and answers ‘no, I do not want the coupon’ are labeled as ‘Y = 0’.  There are five different types of coupons -- less expensive restaurants (under \\\\$20), coffee houses, carry out & take away, bar, and more expensive restaurants (\\\\$20 - \\\\$50). "
   ]
  },
  {
   "cell_type": "markdown",
   "metadata": {},
   "source": [
    "**Deliverables**\n",
    "\n",
    "Your final product should be a brief report that highlights the differences between customers who did and did not accept the coupons.  To explore the data you will utilize your knowledge of plotting, statistical summaries, and visualization using Python. You will publish your findings in a public facing github repository as your first portfolio piece. \n",
    "\n",
    "\n",
    "\n"
   ]
  },
  {
   "cell_type": "markdown",
   "metadata": {},
   "source": [
    "### Data Description\n",
    "Keep in mind that these values mentioned below are average values.\n",
    "\n",
    "The attributes of this data set include:\n",
    "1. User attributes\n",
    "    -  Gender: male, female\n",
    "    -  Age: below 21, 21 to 25, 26 to 30, etc.\n",
    "    -  Marital Status: single, married partner, unmarried partner, or widowed\n",
    "    -  Number of children: 0, 1, or more than 1\n",
    "    -  Education: high school, bachelors degree, associates degree, or graduate degree\n",
    "    -  Occupation: architecture & engineering, business & financial, etc.\n",
    "    -  Annual income: less than &#36;12500, &#36;12500 - &#36;24999, &#36;25000 - &#36;37499, etc.\n",
    "    -  Number of times that he&#47;she goes to a bar: 0, less than 1, 1 to 3, 4 to 8 or greater than 8\n",
    "    -  Number of times that he/she buys takeaway food: 0, less than 1, 1 to 3, 4 to 8 or greater\n",
    "    than 8\n",
    "    -  Number of times that he/she goes to a coffee house: 0, less than 1, 1 to 3, 4 to 8 or\n",
    "    greater than 8\n",
    "    -  Number of times that he/she eats at a restaurant with average expense less than $20 per\n",
    "    person: 0, less than 1, 1 to 3, 4 to 8 or greater than 8\n",
    "    -  Number of times that he/she goes to a bar: 0, less than 1, 1 to 3, 4 to 8 or greater than 8\n",
    "    \n",
    "\n",
    "2. Contextual attributes\n",
    "    - Driving destination: home, work, or no urgent destination\n",
    "    - Location of user, coupon and destination: we provide a map to show the geographical\n",
    "    location of the user, destination, and the venue, and we mark the distance between each\n",
    "    two places with time of driving. The user can see whether the venue is in the same\n",
    "    direction as the destination.\n",
    "    - Weather: sunny, rainy, or snowy\n",
    "    - Temperature: 30F, 55F, or 80F\n",
    "    - Time: 10AM, 2PM, or 6PM\n",
    "    - Passenger: alone, partner, kid(s), or friend(s)\n",
    "\n",
    "\n",
    "3. Coupon attributes\n",
    "    - time before it expires: 2 hours or one day"
   ]
  },
  {
   "cell_type": "code",
   "metadata": {
    "ExecuteTime": {
     "end_time": "2024-07-13T00:42:47.250406Z",
     "start_time": "2024-07-13T00:42:47.248547Z"
    }
   },
   "source": [
    "import matplotlib.pyplot as plt\n",
    "import seaborn as sns\n",
    "import pandas as pd\n",
    "import numpy as np\n",
    "import warnings"
   ],
   "outputs": [],
   "execution_count": 128
  },
  {
   "cell_type": "markdown",
   "metadata": {},
   "source": [
    "### Problems\n",
    "\n",
    "Use the prompts below to get started with your data analysis.  \n",
    "\n",
    "1. Read in the `coupons.csv` file.\n",
    "\n",
    "\n"
   ]
  },
  {
   "cell_type": "code",
   "metadata": {
    "ExecuteTime": {
     "end_time": "2024-07-13T00:42:47.371408Z",
     "start_time": "2024-07-13T00:42:47.349442Z"
    }
   },
   "source": "data = pd.read_csv('data/coupons.csv')",
   "outputs": [],
   "execution_count": 129
  },
  {
   "cell_type": "code",
   "metadata": {
    "ExecuteTime": {
     "end_time": "2024-07-13T00:42:47.378395Z",
     "start_time": "2024-07-13T00:42:47.373832Z"
    }
   },
   "source": [
    "data.head()"
   ],
   "outputs": [
    {
     "data": {
      "text/plain": [
       "       destination  passanger weather  temperature  time  \\\n",
       "0  No Urgent Place      Alone   Sunny           55   2PM   \n",
       "1  No Urgent Place  Friend(s)   Sunny           80  10AM   \n",
       "2  No Urgent Place  Friend(s)   Sunny           80  10AM   \n",
       "3  No Urgent Place  Friend(s)   Sunny           80   2PM   \n",
       "4  No Urgent Place  Friend(s)   Sunny           80   2PM   \n",
       "\n",
       "                  coupon expiration  gender age      maritalStatus  ...  \\\n",
       "0        Restaurant(<20)         1d  Female  21  Unmarried partner  ...   \n",
       "1           Coffee House         2h  Female  21  Unmarried partner  ...   \n",
       "2  Carry out & Take away         2h  Female  21  Unmarried partner  ...   \n",
       "3           Coffee House         2h  Female  21  Unmarried partner  ...   \n",
       "4           Coffee House         1d  Female  21  Unmarried partner  ...   \n",
       "\n",
       "   CoffeeHouse CarryAway RestaurantLessThan20 Restaurant20To50  \\\n",
       "0        never       NaN                  4~8              1~3   \n",
       "1        never       NaN                  4~8              1~3   \n",
       "2        never       NaN                  4~8              1~3   \n",
       "3        never       NaN                  4~8              1~3   \n",
       "4        never       NaN                  4~8              1~3   \n",
       "\n",
       "  toCoupon_GEQ5min toCoupon_GEQ15min toCoupon_GEQ25min direction_same  \\\n",
       "0                1                 0                 0              0   \n",
       "1                1                 0                 0              0   \n",
       "2                1                 1                 0              0   \n",
       "3                1                 1                 0              0   \n",
       "4                1                 1                 0              0   \n",
       "\n",
       "  direction_opp  Y  \n",
       "0             1  1  \n",
       "1             1  0  \n",
       "2             1  1  \n",
       "3             1  0  \n",
       "4             1  0  \n",
       "\n",
       "[5 rows x 26 columns]"
      ],
      "text/html": [
       "<div>\n",
       "<style scoped>\n",
       "    .dataframe tbody tr th:only-of-type {\n",
       "        vertical-align: middle;\n",
       "    }\n",
       "\n",
       "    .dataframe tbody tr th {\n",
       "        vertical-align: top;\n",
       "    }\n",
       "\n",
       "    .dataframe thead th {\n",
       "        text-align: right;\n",
       "    }\n",
       "</style>\n",
       "<table border=\"1\" class=\"dataframe\">\n",
       "  <thead>\n",
       "    <tr style=\"text-align: right;\">\n",
       "      <th></th>\n",
       "      <th>destination</th>\n",
       "      <th>passanger</th>\n",
       "      <th>weather</th>\n",
       "      <th>temperature</th>\n",
       "      <th>time</th>\n",
       "      <th>coupon</th>\n",
       "      <th>expiration</th>\n",
       "      <th>gender</th>\n",
       "      <th>age</th>\n",
       "      <th>maritalStatus</th>\n",
       "      <th>...</th>\n",
       "      <th>CoffeeHouse</th>\n",
       "      <th>CarryAway</th>\n",
       "      <th>RestaurantLessThan20</th>\n",
       "      <th>Restaurant20To50</th>\n",
       "      <th>toCoupon_GEQ5min</th>\n",
       "      <th>toCoupon_GEQ15min</th>\n",
       "      <th>toCoupon_GEQ25min</th>\n",
       "      <th>direction_same</th>\n",
       "      <th>direction_opp</th>\n",
       "      <th>Y</th>\n",
       "    </tr>\n",
       "  </thead>\n",
       "  <tbody>\n",
       "    <tr>\n",
       "      <th>0</th>\n",
       "      <td>No Urgent Place</td>\n",
       "      <td>Alone</td>\n",
       "      <td>Sunny</td>\n",
       "      <td>55</td>\n",
       "      <td>2PM</td>\n",
       "      <td>Restaurant(&lt;20)</td>\n",
       "      <td>1d</td>\n",
       "      <td>Female</td>\n",
       "      <td>21</td>\n",
       "      <td>Unmarried partner</td>\n",
       "      <td>...</td>\n",
       "      <td>never</td>\n",
       "      <td>NaN</td>\n",
       "      <td>4~8</td>\n",
       "      <td>1~3</td>\n",
       "      <td>1</td>\n",
       "      <td>0</td>\n",
       "      <td>0</td>\n",
       "      <td>0</td>\n",
       "      <td>1</td>\n",
       "      <td>1</td>\n",
       "    </tr>\n",
       "    <tr>\n",
       "      <th>1</th>\n",
       "      <td>No Urgent Place</td>\n",
       "      <td>Friend(s)</td>\n",
       "      <td>Sunny</td>\n",
       "      <td>80</td>\n",
       "      <td>10AM</td>\n",
       "      <td>Coffee House</td>\n",
       "      <td>2h</td>\n",
       "      <td>Female</td>\n",
       "      <td>21</td>\n",
       "      <td>Unmarried partner</td>\n",
       "      <td>...</td>\n",
       "      <td>never</td>\n",
       "      <td>NaN</td>\n",
       "      <td>4~8</td>\n",
       "      <td>1~3</td>\n",
       "      <td>1</td>\n",
       "      <td>0</td>\n",
       "      <td>0</td>\n",
       "      <td>0</td>\n",
       "      <td>1</td>\n",
       "      <td>0</td>\n",
       "    </tr>\n",
       "    <tr>\n",
       "      <th>2</th>\n",
       "      <td>No Urgent Place</td>\n",
       "      <td>Friend(s)</td>\n",
       "      <td>Sunny</td>\n",
       "      <td>80</td>\n",
       "      <td>10AM</td>\n",
       "      <td>Carry out &amp; Take away</td>\n",
       "      <td>2h</td>\n",
       "      <td>Female</td>\n",
       "      <td>21</td>\n",
       "      <td>Unmarried partner</td>\n",
       "      <td>...</td>\n",
       "      <td>never</td>\n",
       "      <td>NaN</td>\n",
       "      <td>4~8</td>\n",
       "      <td>1~3</td>\n",
       "      <td>1</td>\n",
       "      <td>1</td>\n",
       "      <td>0</td>\n",
       "      <td>0</td>\n",
       "      <td>1</td>\n",
       "      <td>1</td>\n",
       "    </tr>\n",
       "    <tr>\n",
       "      <th>3</th>\n",
       "      <td>No Urgent Place</td>\n",
       "      <td>Friend(s)</td>\n",
       "      <td>Sunny</td>\n",
       "      <td>80</td>\n",
       "      <td>2PM</td>\n",
       "      <td>Coffee House</td>\n",
       "      <td>2h</td>\n",
       "      <td>Female</td>\n",
       "      <td>21</td>\n",
       "      <td>Unmarried partner</td>\n",
       "      <td>...</td>\n",
       "      <td>never</td>\n",
       "      <td>NaN</td>\n",
       "      <td>4~8</td>\n",
       "      <td>1~3</td>\n",
       "      <td>1</td>\n",
       "      <td>1</td>\n",
       "      <td>0</td>\n",
       "      <td>0</td>\n",
       "      <td>1</td>\n",
       "      <td>0</td>\n",
       "    </tr>\n",
       "    <tr>\n",
       "      <th>4</th>\n",
       "      <td>No Urgent Place</td>\n",
       "      <td>Friend(s)</td>\n",
       "      <td>Sunny</td>\n",
       "      <td>80</td>\n",
       "      <td>2PM</td>\n",
       "      <td>Coffee House</td>\n",
       "      <td>1d</td>\n",
       "      <td>Female</td>\n",
       "      <td>21</td>\n",
       "      <td>Unmarried partner</td>\n",
       "      <td>...</td>\n",
       "      <td>never</td>\n",
       "      <td>NaN</td>\n",
       "      <td>4~8</td>\n",
       "      <td>1~3</td>\n",
       "      <td>1</td>\n",
       "      <td>1</td>\n",
       "      <td>0</td>\n",
       "      <td>0</td>\n",
       "      <td>1</td>\n",
       "      <td>0</td>\n",
       "    </tr>\n",
       "  </tbody>\n",
       "</table>\n",
       "<p>5 rows × 26 columns</p>\n",
       "</div>"
      ]
     },
     "execution_count": 130,
     "metadata": {},
     "output_type": "execute_result"
    }
   ],
   "execution_count": 130
  },
  {
   "cell_type": "markdown",
   "metadata": {},
   "source": [
    "2. Investigate the dataset for missing or problematic data."
   ]
  },
  {
   "cell_type": "code",
   "metadata": {
    "ExecuteTime": {
     "end_time": "2024-07-13T00:42:47.389436Z",
     "start_time": "2024-07-13T00:42:47.383778Z"
    }
   },
   "source": [
    "# missing data\n",
    "missing = data.isnull().sum()/data.shape[0]\n",
    "missing"
   ],
   "outputs": [
    {
     "data": {
      "text/plain": [
       "destination             0.000000\n",
       "passanger               0.000000\n",
       "weather                 0.000000\n",
       "temperature             0.000000\n",
       "time                    0.000000\n",
       "coupon                  0.000000\n",
       "expiration              0.000000\n",
       "gender                  0.000000\n",
       "age                     0.000000\n",
       "maritalStatus           0.000000\n",
       "has_children            0.000000\n",
       "education               0.000000\n",
       "occupation              0.000000\n",
       "income                  0.000000\n",
       "car                     0.991485\n",
       "Bar                     0.008436\n",
       "CoffeeHouse             0.017108\n",
       "CarryAway               0.011905\n",
       "RestaurantLessThan20    0.010249\n",
       "Restaurant20To50        0.014901\n",
       "toCoupon_GEQ5min        0.000000\n",
       "toCoupon_GEQ15min       0.000000\n",
       "toCoupon_GEQ25min       0.000000\n",
       "direction_same          0.000000\n",
       "direction_opp           0.000000\n",
       "Y                       0.000000\n",
       "dtype: float64"
      ]
     },
     "execution_count": 131,
     "metadata": {},
     "output_type": "execute_result"
    }
   ],
   "execution_count": 131
  },
  {
   "metadata": {
    "ExecuteTime": {
     "end_time": "2024-07-13T00:42:47.403231Z",
     "start_time": "2024-07-13T00:42:47.395051Z"
    }
   },
   "cell_type": "code",
   "source": [
    "# duplicate\n",
    "duplicate = data.duplicated().sum()\n",
    "duplicate"
   ],
   "outputs": [
    {
     "data": {
      "text/plain": [
       "74"
      ]
     },
     "execution_count": 132,
     "metadata": {},
     "output_type": "execute_result"
    }
   ],
   "execution_count": 132
  },
  {
   "metadata": {
    "ExecuteTime": {
     "end_time": "2024-07-13T00:42:47.411458Z",
     "start_time": "2024-07-13T00:42:47.405376Z"
    }
   },
   "cell_type": "code",
   "source": [
    "# unique\n",
    "for column in data.columns:\n",
    "    unique_values = data[column].nunique()\n",
    "    print(f\"{column}: {unique_values}\")"
   ],
   "outputs": [
    {
     "name": "stdout",
     "output_type": "stream",
     "text": [
      "destination: 3\n",
      "passanger: 4\n",
      "weather: 3\n",
      "temperature: 3\n",
      "time: 5\n",
      "coupon: 5\n",
      "expiration: 2\n",
      "gender: 2\n",
      "age: 8\n",
      "maritalStatus: 5\n",
      "has_children: 2\n",
      "education: 6\n",
      "occupation: 25\n",
      "income: 9\n",
      "car: 5\n",
      "Bar: 5\n",
      "CoffeeHouse: 5\n",
      "CarryAway: 5\n",
      "RestaurantLessThan20: 5\n",
      "Restaurant20To50: 5\n",
      "toCoupon_GEQ5min: 1\n",
      "toCoupon_GEQ15min: 2\n",
      "toCoupon_GEQ25min: 2\n",
      "direction_same: 2\n",
      "direction_opp: 2\n",
      "Y: 2\n"
     ]
    }
   ],
   "execution_count": 133
  },
  {
   "metadata": {
    "ExecuteTime": {
     "end_time": "2024-07-13T01:26:52.023405Z",
     "start_time": "2024-07-13T01:26:52.008757Z"
    }
   },
   "cell_type": "code",
   "source": [
    "# column values\n",
    "for column in data.columns:\n",
    "    print(data[column].value_counts(), '\\n')"
   ],
   "outputs": [
    {
     "name": "stdout",
     "output_type": "stream",
     "text": [
      "destination\n",
      "No Urgent Place    6283\n",
      "Home               3237\n",
      "Work               3164\n",
      "Name: count, dtype: int64 \n",
      "\n",
      "passenger\n",
      "Alone        7305\n",
      "Friend(s)    3298\n",
      "Partner      1075\n",
      "Kid(s)       1006\n",
      "Name: count, dtype: int64 \n",
      "\n",
      "weather\n",
      "Sunny    10069\n",
      "Snowy     1405\n",
      "Rainy     1210\n",
      "Name: count, dtype: int64 \n",
      "\n",
      "temperature\n",
      "80    6528\n",
      "55    3840\n",
      "30    2316\n",
      "Name: count, dtype: int64 \n",
      "\n",
      "time\n",
      "6PM     3230\n",
      "7AM     3164\n",
      "10AM    2275\n",
      "2PM     2009\n",
      "10PM    2006\n",
      "Name: count, dtype: int64 \n",
      "\n",
      "coupon\n",
      "Coffee House             3996\n",
      "Restaurant(<20)          2786\n",
      "Carry out & Take away    2393\n",
      "Bar                      2017\n",
      "Restaurant(20-50)        1492\n",
      "Name: count, dtype: int64 \n",
      "\n",
      "expiration\n",
      "1d    7091\n",
      "2h    5593\n",
      "Name: count, dtype: int64 \n",
      "\n",
      "gender\n",
      "Female    6511\n",
      "Male      6173\n",
      "Name: count, dtype: int64 \n",
      "\n",
      "age\n",
      "21         2653\n",
      "26         2559\n",
      "31         2039\n",
      "50plus     1788\n",
      "36         1319\n",
      "41         1093\n",
      "46          686\n",
      "below21     547\n",
      "Name: count, dtype: int64 \n",
      "\n",
      "maritalStatus\n",
      "Married partner      5100\n",
      "Single               4752\n",
      "Unmarried partner    2186\n",
      "Divorced              516\n",
      "Widowed               130\n",
      "Name: count, dtype: int64 \n",
      "\n",
      "has_children\n",
      "False    7431\n",
      "True     5253\n",
      "Name: count, dtype: int64 \n",
      "\n",
      "education\n",
      "Some college - no degree                  4351\n",
      "Bachelors degree                          4335\n",
      "Graduate degree (Masters or Doctorate)    1852\n",
      "Associates degree                         1153\n",
      "High School Graduate                       905\n",
      "Some High School                            88\n",
      "Name: count, dtype: int64 \n",
      "\n",
      "occupation\n",
      "Unemployed                                   1870\n",
      "Student                                      1584\n",
      "Computer & Mathematical                      1408\n",
      "Sales & Related                              1093\n",
      "Education&Training&Library                    943\n",
      "Management                                    838\n",
      "Office & Administrative Support               639\n",
      "Arts Design Entertainment Sports & Media      629\n",
      "Business & Financial                          544\n",
      "Retired                                       495\n",
      "Food Preparation & Serving Related            298\n",
      "Healthcare Practitioners & Technical          244\n",
      "Healthcare Support                            242\n",
      "Community & Social Services                   241\n",
      "Legal                                         219\n",
      "Transportation & Material Moving              218\n",
      "Architecture & Engineering                    175\n",
      "Personal Care & Service                       175\n",
      "Protective Service                            175\n",
      "Life Physical Social Science                  170\n",
      "Construction & Extraction                     154\n",
      "Installation Maintenance & Repair             133\n",
      "Production Occupations                        110\n",
      "Building & Grounds Cleaning & Maintenance      44\n",
      "Farming Fishing & Forestry                     43\n",
      "Name: count, dtype: int64 \n",
      "\n",
      "income\n",
      "$25000 - $37499     2013\n",
      "$12500 - $24999     1831\n",
      "$37500 - $49999     1805\n",
      "$100000 or More     1736\n",
      "$50000 - $62499     1659\n",
      "Less than $12500    1042\n",
      "$87500 - $99999      895\n",
      "$75000 - $87499      857\n",
      "$62500 - $74999      846\n",
      "Name: count, dtype: int64 \n",
      "\n",
      "car\n",
      "Unknown                                     12576\n",
      "Scooter and motorcycle                         22\n",
      "Mazda5                                         22\n",
      "do not drive                                   22\n",
      "crossover                                      21\n",
      "Car that is too old to install Onstar :D       21\n",
      "Name: count, dtype: int64 \n",
      "\n",
      "Bar\n",
      "never    5304\n",
      "less1    3482\n",
      "1~3      2473\n",
      "4~8      1076\n",
      "gt8       349\n",
      "Name: count, dtype: int64 \n",
      "\n",
      "CoffeeHouse\n",
      "less1    3528\n",
      "1~3      3265\n",
      "never    2996\n",
      "4~8      1784\n",
      "gt8      1111\n",
      "Name: count, dtype: int64 \n",
      "\n",
      "CarryAway\n",
      "1~3      4783\n",
      "4~8      4298\n",
      "less1    1856\n",
      "gt8      1594\n",
      "never     153\n",
      "Name: count, dtype: int64 \n",
      "\n",
      "RestaurantLessThan20\n",
      "1~3      5472\n",
      "4~8      3614\n",
      "less1    2093\n",
      "gt8      1285\n",
      "never     220\n",
      "Name: count, dtype: int64 \n",
      "\n",
      "Restaurant20To50\n",
      "less1    6266\n",
      "1~3      3290\n",
      "never    2136\n",
      "4~8       728\n",
      "gt8       264\n",
      "Name: count, dtype: int64 \n",
      "\n",
      "toCoupon_GEQ5min\n",
      "True    12684\n",
      "Name: count, dtype: int64 \n",
      "\n",
      "toCoupon_GEQ15min\n",
      "True     7122\n",
      "False    5562\n",
      "Name: count, dtype: int64 \n",
      "\n",
      "toCoupon_GEQ25min\n",
      "False    11173\n",
      "True      1511\n",
      "Name: count, dtype: int64 \n",
      "\n",
      "direction_same\n",
      "False    9960\n",
      "True     2724\n",
      "Name: count, dtype: int64 \n",
      "\n",
      "direction_opp\n",
      "True     9960\n",
      "False    2724\n",
      "Name: count, dtype: int64 \n",
      "\n",
      "Y\n",
      "True     7210\n",
      "False    5474\n",
      "Name: count, dtype: int64 \n",
      "\n"
     ]
    }
   ],
   "execution_count": 166
  },
  {
   "metadata": {
    "ExecuteTime": {
     "end_time": "2024-07-13T00:42:47.442289Z",
     "start_time": "2024-07-13T00:42:47.437335Z"
    }
   },
   "cell_type": "code",
   "source": "data.groupby(['income'])['Bar'].value_counts(dropna=False)",
   "outputs": [
    {
     "data": {
      "text/plain": [
       "income            Bar  \n",
       "$100000 or More   less1    733\n",
       "                  never    435\n",
       "                  1~3      350\n",
       "                  4~8      196\n",
       "                  gt8       22\n",
       "$12500 - $24999   never    835\n",
       "                  1~3      411\n",
       "                  less1    386\n",
       "                  4~8      177\n",
       "                  gt8       22\n",
       "$25000 - $37499   never    891\n",
       "                  less1    572\n",
       "                  1~3      325\n",
       "                  4~8      197\n",
       "                  gt8       22\n",
       "                  NaN        6\n",
       "$37500 - $49999   never    791\n",
       "                  less1    505\n",
       "                  1~3      283\n",
       "                  4~8      110\n",
       "                  gt8       88\n",
       "                  NaN       28\n",
       "$50000 - $62499   never    759\n",
       "                  less1    411\n",
       "                  1~3      286\n",
       "                  4~8      132\n",
       "                  gt8       43\n",
       "                  NaN       28\n",
       "$62500 - $74999   never    372\n",
       "                  1~3      182\n",
       "                  4~8      154\n",
       "                  less1    110\n",
       "                  gt8       22\n",
       "                  NaN        6\n",
       "$75000 - $87499   never    298\n",
       "                  less1    276\n",
       "                  1~3      198\n",
       "                  gt8       64\n",
       "                  NaN       21\n",
       "$87500 - $99999   never    356\n",
       "                  less1    264\n",
       "                  1~3      241\n",
       "                  gt8       22\n",
       "                  NaN       12\n",
       "Less than $12500  never    460\n",
       "                  less1    225\n",
       "                  1~3      197\n",
       "                  4~8      110\n",
       "                  gt8       44\n",
       "                  NaN        6\n",
       "Name: count, dtype: int64"
      ]
     },
     "execution_count": 135,
     "metadata": {},
     "output_type": "execute_result"
    }
   ],
   "execution_count": 135
  },
  {
   "metadata": {
    "ExecuteTime": {
     "end_time": "2024-07-13T00:42:47.484219Z",
     "start_time": "2024-07-13T00:42:47.481831Z"
    }
   },
   "cell_type": "code",
   "source": [
    "# data types\n",
    "data.dtypes"
   ],
   "outputs": [
    {
     "data": {
      "text/plain": [
       "destination             object\n",
       "passanger               object\n",
       "weather                 object\n",
       "temperature              int64\n",
       "time                    object\n",
       "coupon                  object\n",
       "expiration              object\n",
       "gender                  object\n",
       "age                     object\n",
       "maritalStatus           object\n",
       "has_children             int64\n",
       "education               object\n",
       "occupation              object\n",
       "income                  object\n",
       "car                     object\n",
       "Bar                     object\n",
       "CoffeeHouse             object\n",
       "CarryAway               object\n",
       "RestaurantLessThan20    object\n",
       "Restaurant20To50        object\n",
       "toCoupon_GEQ5min         int64\n",
       "toCoupon_GEQ15min        int64\n",
       "toCoupon_GEQ25min        int64\n",
       "direction_same           int64\n",
       "direction_opp            int64\n",
       "Y                        int64\n",
       "dtype: object"
      ]
     },
     "execution_count": 136,
     "metadata": {},
     "output_type": "execute_result"
    }
   ],
   "execution_count": 136
  },
  {
   "metadata": {},
   "cell_type": "markdown",
   "source": [
    "TODO:\n",
    "- Correct the \"passanger\" column name to \"passenger\"\n",
    "- Handle missing values\n",
    "- Investigate and maybe remove duplicate rows\n",
    "- For boolean columns, convert to actual boolean type"
   ]
  },
  {
   "cell_type": "markdown",
   "metadata": {},
   "source": [
    "3. Decide what to do about your missing data -- drop, replace, other..."
   ]
  },
  {
   "cell_type": "code",
   "metadata": {
    "ExecuteTime": {
     "end_time": "2024-07-13T00:42:47.516479Z",
     "start_time": "2024-07-13T00:42:47.513634Z"
    }
   },
   "source": [
    "# correct the \"passanger\" column name to \"passenger\"\n",
    "data = data.rename(columns={'passanger': 'passenger'})"
   ],
   "outputs": [],
   "execution_count": 137
  },
  {
   "metadata": {
    "ExecuteTime": {
     "end_time": "2024-07-13T00:42:47.548727Z",
     "start_time": "2024-07-13T00:42:47.530653Z"
    }
   },
   "cell_type": "code",
   "source": [
    "# handling missing values: filling \"car\" column with \"Unknown\" and using income based mode for other categorical data\n",
    "data['car'].fillna('Unknown', inplace=True)\n",
    "\n",
    "for col in ['Bar', 'CoffeeHouse', 'CarryAway', 'RestaurantLessThan20', 'Restaurant20To50']:\n",
    "    data[col] = data.groupby('income')[col].transform(lambda x: x.fillna(x.mode().iloc[0] if not x.mode().empty else 'Unknown'))"
   ],
   "outputs": [],
   "execution_count": 138
  },
  {
   "metadata": {
    "ExecuteTime": {
     "end_time": "2024-07-13T00:42:47.567523Z",
     "start_time": "2024-07-13T00:42:47.558103Z"
    }
   },
   "cell_type": "code",
   "source": [
    "# investigate duplicate rows\n",
    "print(data[data.duplicated()])\n",
    "\n",
    "# since we do not have unique identifiers for each person, we cannot judge if there is a problem with data or respondents' answers were exactly the same, so I will keep the duplicate rows in place "
   ],
   "outputs": [
    {
     "name": "stdout",
     "output_type": "stream",
     "text": [
      "     destination passenger weather  temperature  time                 coupon  \\\n",
      "4192        Work     Alone   Sunny           80   7AM  Carry out & Take away   \n",
      "4236        Work     Alone   Sunny           80   7AM  Carry out & Take away   \n",
      "4280        Work     Alone   Sunny           80   7AM  Carry out & Take away   \n",
      "4324        Work     Alone   Sunny           80   7AM  Carry out & Take away   \n",
      "4409        Work     Alone   Sunny           80   7AM  Carry out & Take away   \n",
      "...          ...       ...     ...          ...   ...                    ...   \n",
      "8511        Home     Alone   Sunny           80   6PM                    Bar   \n",
      "8512        Home   Partner   Sunny           30  10PM  Carry out & Take away   \n",
      "8513        Work     Alone   Rainy           55   7AM        Restaurant(<20)   \n",
      "8515        Work     Alone   Snowy           30   7AM      Restaurant(20-50)   \n",
      "8516        Work     Alone   Sunny           80   7AM        Restaurant(<20)   \n",
      "\n",
      "     expiration  gender age    maritalStatus  ...  CoffeeHouse CarryAway  \\\n",
      "4192         1d    Male  26           Single  ...        never       1~3   \n",
      "4236         1d    Male  26           Single  ...          gt8       gt8   \n",
      "4280         1d  Female  26           Single  ...        never       4~8   \n",
      "4324         1d  Female  46           Single  ...        never       4~8   \n",
      "4409         1d  Female  21           Single  ...        never     less1   \n",
      "...         ...     ...  ..              ...  ...          ...       ...   \n",
      "8511         2h    Male  46  Married partner  ...          1~3       1~3   \n",
      "8512         2h    Male  46  Married partner  ...          1~3       1~3   \n",
      "8513         2h    Male  46  Married partner  ...          1~3       1~3   \n",
      "8515         1d    Male  46  Married partner  ...          1~3       1~3   \n",
      "8516         1d    Male  46  Married partner  ...          1~3       1~3   \n",
      "\n",
      "     RestaurantLessThan20 Restaurant20To50 toCoupon_GEQ5min toCoupon_GEQ15min  \\\n",
      "4192                less1            less1                1                 1   \n",
      "4236                  4~8            less1                1                 1   \n",
      "4280                  1~3            less1                1                 1   \n",
      "4324                  1~3              1~3                1                 1   \n",
      "4409                  1~3            never                1                 1   \n",
      "...                   ...              ...              ...               ...   \n",
      "8511                less1              1~3                1                 0   \n",
      "8512                less1              1~3                1                 1   \n",
      "8513                less1              1~3                1                 1   \n",
      "8515                less1              1~3                1                 1   \n",
      "8516                less1              1~3                1                 0   \n",
      "\n",
      "     toCoupon_GEQ25min direction_same direction_opp  Y  \n",
      "4192                 1              0             1  1  \n",
      "4236                 1              0             1  1  \n",
      "4280                 1              0             1  1  \n",
      "4324                 1              0             1  1  \n",
      "4409                 1              0             1  0  \n",
      "...                ...            ...           ... ..  \n",
      "8511                 0              1             0  1  \n",
      "8512                 0              0             1  1  \n",
      "8513                 1              0             1  0  \n",
      "8515                 1              0             1  0  \n",
      "8516                 0              1             0  1  \n",
      "\n",
      "[74 rows x 26 columns]\n"
     ]
    }
   ],
   "execution_count": 139
  },
  {
   "metadata": {
    "ExecuteTime": {
     "end_time": "2024-07-13T00:42:47.572875Z",
     "start_time": "2024-07-13T00:42:47.570164Z"
    }
   },
   "cell_type": "code",
   "source": [
    "# convert boolean columns to actual boolean type\n",
    "for col in ['has_children', 'toCoupon_GEQ5min', 'toCoupon_GEQ15min', 'toCoupon_GEQ25min', 'direction_same', 'direction_opp', 'Y']:\n",
    "    data[col] = data[col].astype(bool)"
   ],
   "outputs": [],
   "execution_count": 140
  },
  {
   "metadata": {
    "ExecuteTime": {
     "end_time": "2024-07-13T00:42:47.607444Z",
     "start_time": "2024-07-13T00:42:47.574914Z"
    }
   },
   "cell_type": "code",
   "source": [
    "# save the cleaned data\n",
    "data.to_csv('data/coupons_cleaned.csv', index=False)"
   ],
   "outputs": [],
   "execution_count": 141
  },
  {
   "cell_type": "markdown",
   "metadata": {},
   "source": [
    "4. What proportion of the total observations chose to accept the coupon? \n",
    "\n"
   ]
  },
  {
   "metadata": {
    "ExecuteTime": {
     "end_time": "2024-07-13T00:42:47.609902Z",
     "start_time": "2024-07-13T00:42:47.608544Z"
    }
   },
   "cell_type": "code",
   "source": "warnings.filterwarnings('ignore', category=FutureWarning)",
   "outputs": [],
   "execution_count": 142
  },
  {
   "cell_type": "code",
   "metadata": {
    "ExecuteTime": {
     "end_time": "2024-07-13T00:42:47.611907Z",
     "start_time": "2024-07-13T00:42:47.610321Z"
    }
   },
   "source": [
    "total_observations = data.shape[0]\n",
    "accepted_coupons = data['Y'].sum()\n",
    "proportion_accepted = accepted_coupons/total_observations\n",
    "print(proportion_accepted)"
   ],
   "outputs": [
    {
     "name": "stdout",
     "output_type": "stream",
     "text": [
      "0.5684326710816777\n"
     ]
    }
   ],
   "execution_count": 143
  },
  {
   "metadata": {
    "ExecuteTime": {
     "end_time": "2024-07-13T01:28:38.268941Z",
     "start_time": "2024-07-13T01:28:38.227888Z"
    }
   },
   "cell_type": "code",
   "source": [
    "labels = ['Accepted', 'Rejected']\n",
    "sizes = [proportion_accepted, 1 - proportion_accepted]\n",
    "colors = ['#add8e6', '#ff7f50']\n",
    "\n",
    "plt.figure(figsize=(12, 6))\n",
    "plt.pie(sizes, labels=labels, colors=colors, autopct='%1.1f%%', startangle=90)\n",
    "plt.axis('equal')\n",
    "plt.title('Proportion of Coupon Acceptance')\n",
    "plt.show()"
   ],
   "outputs": [
    {
     "data": {
      "text/plain": [
       "<Figure size 1200x600 with 1 Axes>"
      ],
      "image/png": "[encoded data removed]"
     },
     "metadata": {},
     "output_type": "display_data"
    }
   ],
   "execution_count": 168
  },
  {
   "cell_type": "markdown",
   "metadata": {},
   "source": [
    "5. Use a bar plot to visualize the `coupon` column."
   ]
  },
  {
   "metadata": {
    "ExecuteTime": {
     "end_time": "2024-07-13T01:40:47.414594Z",
     "start_time": "2024-07-13T01:40:47.340268Z"
    }
   },
   "cell_type": "code",
   "source": [
    "plt.figure(figsize=(12, 6))\n",
    "sns.countplot(x='coupon', data=data, order=data['coupon'].value_counts().index, palette='pastel')\n",
    "plt.title('Distribution of Coupon Types')\n",
    "plt.xlabel('Coupon Type')\n",
    "plt.ylabel('Count')\n",
    "plt.xticks(rotation=45, ha='right')\n",
    "plt.show()"
   ],
   "outputs": [
    {
     "data": {
      "text/plain": [
       "<Figure size 1200x600 with 1 Axes>"
      ],
      "image/png": "[encoded data removed]"
     },
     "metadata": {},
     "output_type": "display_data"
    }
   ],
   "execution_count": 180
  },
  {
   "cell_type": "code",
   "metadata": {
    "ExecuteTime": {
     "end_time": "2024-07-13T01:29:01.183935Z",
     "start_time": "2024-07-13T01:29:01.096569Z"
    }
   },
   "source": [
    "colors = ['#add8e6', '#ff7f50']\n",
    "coupon_counts = data.groupby('coupon')['Y'].value_counts(normalize=True).unstack()\n",
    "coupon_counts.columns = ['Rejected', 'Accepted']\n",
    "coupon_counts['Total'] = coupon_counts['Accepted'] + coupon_counts['Rejected']\n",
    "coupon_counts['Acceptance Rate'] = coupon_counts['Accepted'] / coupon_counts['Total']\n",
    "coupon_counts = coupon_counts.sort_values('Total', ascending=False)\n",
    "\n",
    "plt.figure(figsize=(12, 6))\n",
    "sns.barplot(x=coupon_counts.index, y=coupon_counts['Total'], color=colors[1], label='Rejected')\n",
    "sns.barplot(x=coupon_counts.index, y=coupon_counts['Accepted'], color=colors[0], label='Accepted')\n",
    "plt.title('Proportion of Accepted and Rejected Coupons by Coupon Type')\n",
    "plt.xlabel('Coupon Type')\n",
    "plt.ylabel('Proportion')\n",
    "plt.legend()\n",
    "plt.xticks(rotation=45, ha='right')\n",
    "\n",
    "plt.show()"
   ],
   "outputs": [
    {
     "data": {
      "text/plain": [
       "<Figure size 1200x600 with 1 Axes>"
      ],
      "image/png": "[encoded data removed]"
     },
     "metadata": {},
     "output_type": "display_data"
    }
   ],
   "execution_count": 169
  },
  {
   "cell_type": "markdown",
   "metadata": {},
   "source": [
    "6. Use a histogram to visualize the temperature column."
   ]
  },
  {
   "cell_type": "code",
   "metadata": {
    "ExecuteTime": {
     "end_time": "2024-07-13T01:34:04.584629Z",
     "start_time": "2024-07-13T01:34:04.409978Z"
    }
   },
   "source": [
    "colors = {1:'#add8e6', 0: '#ff7f50'} \n",
    "plt.figure(figsize=(12, 6))\n",
    "sns.histplot(data=data, x='temperature', hue ='Y', palette=colors, kde=True, multiple='dodge')\n",
    "plt.title('Distribution of Temperature')\n",
    "plt.xlabel('Temperature')\n",
    "plt.ylabel('Density')\n",
    "plt.legend(title='Coupon Accepted', labels=['Yes', 'No'])\n",
    "plt.show()"
   ],
   "outputs": [
    {
     "data": {
      "text/plain": [
       "<Figure size 1200x600 with 1 Axes>"
      ],
      "image/png": "[encoded data removed]"
     },
     "metadata": {},
     "output_type": "display_data"
    }
   ],
   "execution_count": 175
  },
  {
   "cell_type": "markdown",
   "metadata": {},
   "source": [
    "**Investigating the Bar Coupons**\n",
    "\n",
    "Now, we will lead you through an exploration of just the bar related coupons.  \n",
    "\n",
    "1. Create a new `DataFrame` that contains just the bar coupons.\n"
   ]
  },
  {
   "cell_type": "code",
   "metadata": {
    "ExecuteTime": {
     "end_time": "2024-07-13T02:13:58.831862Z",
     "start_time": "2024-07-13T02:13:58.821945Z"
    }
   },
   "source": [
    "data_bar = data[data['coupon'].str.contains('bar', case=False)]\n",
    "data_bar.describe()"
   ],
   "outputs": [
    {
     "data": {
      "text/plain": [
       "       temperature\n",
       "count  2017.000000\n",
       "mean     57.590481\n",
       "std      17.950408\n",
       "min      30.000000\n",
       "25%      55.000000\n",
       "50%      55.000000\n",
       "75%      80.000000\n",
       "max      80.000000"
      ],
      "text/html": [
       "<div>\n",
       "<style scoped>\n",
       "    .dataframe tbody tr th:only-of-type {\n",
       "        vertical-align: middle;\n",
       "    }\n",
       "\n",
       "    .dataframe tbody tr th {\n",
       "        vertical-align: top;\n",
       "    }\n",
       "\n",
       "    .dataframe thead th {\n",
       "        text-align: right;\n",
       "    }\n",
       "</style>\n",
       "<table border=\"1\" class=\"dataframe\">\n",
       "  <thead>\n",
       "    <tr style=\"text-align: right;\">\n",
       "      <th></th>\n",
       "      <th>temperature</th>\n",
       "    </tr>\n",
       "  </thead>\n",
       "  <tbody>\n",
       "    <tr>\n",
       "      <th>count</th>\n",
       "      <td>2017.000000</td>\n",
       "    </tr>\n",
       "    <tr>\n",
       "      <th>mean</th>\n",
       "      <td>57.590481</td>\n",
       "    </tr>\n",
       "    <tr>\n",
       "      <th>std</th>\n",
       "      <td>17.950408</td>\n",
       "    </tr>\n",
       "    <tr>\n",
       "      <th>min</th>\n",
       "      <td>30.000000</td>\n",
       "    </tr>\n",
       "    <tr>\n",
       "      <th>25%</th>\n",
       "      <td>55.000000</td>\n",
       "    </tr>\n",
       "    <tr>\n",
       "      <th>50%</th>\n",
       "      <td>55.000000</td>\n",
       "    </tr>\n",
       "    <tr>\n",
       "      <th>75%</th>\n",
       "      <td>80.000000</td>\n",
       "    </tr>\n",
       "    <tr>\n",
       "      <th>max</th>\n",
       "      <td>80.000000</td>\n",
       "    </tr>\n",
       "  </tbody>\n",
       "</table>\n",
       "</div>"
      ]
     },
     "execution_count": 210,
     "metadata": {},
     "output_type": "execute_result"
    }
   ],
   "execution_count": 210
  },
  {
   "metadata": {
    "ExecuteTime": {
     "end_time": "2024-07-13T02:49:18.350598Z",
     "start_time": "2024-07-13T02:49:18.338763Z"
    }
   },
   "cell_type": "code",
   "source": [
    "for column in data_bar.columns:\n",
    "    print(data_bar[column].value_counts(), '\\n')"
   ],
   "outputs": [
    {
     "name": "stdout",
     "output_type": "stream",
     "text": [
      "destination\n",
      "No Urgent Place    1024\n",
      "Home                506\n",
      "Work                487\n",
      "Name: count, dtype: int64 \n",
      "\n",
      "passenger\n",
      "Alone        1200\n",
      "Friend(s)     337\n",
      "Partner       274\n",
      "Kid(s)        206\n",
      "Name: count, dtype: int64 \n",
      "\n",
      "weather\n",
      "Sunny    1348\n",
      "Rainy     430\n",
      "Snowy     239\n",
      "Name: count, dtype: int64 \n",
      "\n",
      "temperature\n",
      "55    956\n",
      "80    635\n",
      "30    426\n",
      "Name: count, dtype: int64 \n",
      "\n",
      "time\n",
      "6PM     566\n",
      "7AM     487\n",
      "10AM    444\n",
      "10PM    402\n",
      "2PM     118\n",
      "Name: count, dtype: int64 \n",
      "\n",
      "coupon\n",
      "Bar    2017\n",
      "Name: count, dtype: int64 \n",
      "\n",
      "expiration\n",
      "1d    1556\n",
      "2h     461\n",
      "Name: count, dtype: int64 \n",
      "\n",
      "gender\n",
      "Female    1045\n",
      "Male       972\n",
      "Name: count, dtype: int64 \n",
      "\n",
      "age\n",
      "21         417\n",
      "26         395\n",
      "31         339\n",
      "50plus     283\n",
      "36         209\n",
      "41         178\n",
      "46         109\n",
      "below21     87\n",
      "Name: count, dtype: int64 \n",
      "\n",
      "maritalStatus\n",
      "Married partner      882\n",
      "Single               661\n",
      "Unmarried partner    378\n",
      "Divorced              75\n",
      "Widowed               21\n",
      "Name: count, dtype: int64 \n",
      "\n",
      "has_children\n",
      "False    1142\n",
      "True      875\n",
      "Name: count, dtype: int64 \n",
      "\n",
      "education\n",
      "Some college - no degree                  708\n",
      "Bachelors degree                          684\n",
      "Graduate degree (Masters or Doctorate)    271\n",
      "Associates degree                         192\n",
      "High School Graduate                      148\n",
      "Some High School                           14\n",
      "Name: count, dtype: int64 \n",
      "\n",
      "occupation\n",
      "Unemployed                                   301\n",
      "Student                                      251\n",
      "Computer & Mathematical                      232\n",
      "Sales & Related                              178\n",
      "Education&Training&Library                   140\n",
      "Management                                   119\n",
      "Office & Administrative Support              105\n",
      "Arts Design Entertainment Sports & Media     100\n",
      "Business & Financial                          89\n",
      "Retired                                       75\n",
      "Food Preparation & Serving Related            48\n",
      "Community & Social Services                   44\n",
      "Healthcare Support                            44\n",
      "Healthcare Practitioners & Technical          41\n",
      "Transportation & Material Moving              35\n",
      "Legal                                         34\n",
      "Architecture & Engineering                    27\n",
      "Personal Care & Service                       27\n",
      "Protective Service                            27\n",
      "Construction & Extraction                     24\n",
      "Life Physical Social Science                  24\n",
      "Installation Maintenance & Repair             18\n",
      "Production Occupations                        18\n",
      "Farming Fishing & Forestry                     9\n",
      "Building & Grounds Cleaning & Maintenance      7\n",
      "Name: count, dtype: int64 \n",
      "\n",
      "income\n",
      "$25000 - $37499     318\n",
      "$100000 or More     291\n",
      "$12500 - $24999     288\n",
      "$37500 - $49999     267\n",
      "$50000 - $62499     262\n",
      "Less than $12500    165\n",
      "$75000 - $87499     151\n",
      "$87500 - $99999     145\n",
      "$62500 - $74999     130\n",
      "Name: count, dtype: int64 \n",
      "\n",
      "car\n",
      "Unknown                                     2004\n",
      "Scooter and motorcycle                         3\n",
      "crossover                                      3\n",
      "Mazda5                                         3\n",
      "do not drive                                   2\n",
      "Car that is too old to install Onstar :D       2\n",
      "Name: count, dtype: int64 \n",
      "\n",
      "Bar\n",
      "never    851\n",
      "less1    570\n",
      "1~3      397\n",
      "4~8      150\n",
      "gt8       49\n",
      "Name: count, dtype: int64 \n",
      "\n",
      "CoffeeHouse\n",
      "less1    572\n",
      "1~3      509\n",
      "never    471\n",
      "4~8      291\n",
      "gt8      174\n",
      "Name: count, dtype: int64 \n",
      "\n",
      "CarryAway\n",
      "1~3      759\n",
      "4~8      676\n",
      "less1    298\n",
      "gt8      259\n",
      "never     25\n",
      "Name: count, dtype: int64 \n",
      "\n",
      "RestaurantLessThan20\n",
      "1~3      894\n",
      "4~8      575\n",
      "less1    325\n",
      "gt8      186\n",
      "never     37\n",
      "Name: count, dtype: int64 \n",
      "\n",
      "Restaurant20To50\n",
      "less1    1018\n",
      "1~3       533\n",
      "never     311\n",
      "4~8       120\n",
      "gt8        35\n",
      "Name: count, dtype: int64 \n",
      "\n",
      "toCoupon_GEQ5min\n",
      "True    2017\n",
      "Name: count, dtype: int64 \n",
      "\n",
      "toCoupon_GEQ15min\n",
      "True     1338\n",
      "False     679\n",
      "Name: count, dtype: int64 \n",
      "\n",
      "toCoupon_GEQ25min\n",
      "False    1507\n",
      "True      510\n",
      "Name: count, dtype: int64 \n",
      "\n",
      "direction_same\n",
      "False    1595\n",
      "True      422\n",
      "Name: count, dtype: int64 \n",
      "\n",
      "direction_opp\n",
      "True     1595\n",
      "False     422\n",
      "Name: count, dtype: int64 \n",
      "\n",
      "Y\n",
      "False    1190\n",
      "True      827\n",
      "Name: count, dtype: int64 \n",
      "\n",
      "frequent_bar\n",
      "<=3    1818\n",
      ">3      199\n",
      "Name: count, dtype: int64 \n",
      "\n",
      "age_25_bar\n",
      "0    1597\n",
      "1     420\n",
      "Name: count, dtype: int64 \n",
      "\n",
      "urbansocial_bar\n",
      "0    1466\n",
      "1     551\n",
      "Name: count, dtype: int64 \n",
      "\n",
      "target_group_bar\n",
      "Others    1235\n",
      "group1     551\n",
      "group3     222\n",
      "group2       9\n",
      "Name: count, dtype: int64 \n",
      "\n"
     ]
    }
   ],
   "execution_count": 244
  },
  {
   "cell_type": "markdown",
   "metadata": {},
   "source": [
    "2. What proportion of bar coupons were accepted?\n"
   ]
  },
  {
   "cell_type": "code",
   "metadata": {
    "ExecuteTime": {
     "end_time": "2024-07-13T02:14:03.415642Z",
     "start_time": "2024-07-13T02:14:03.412424Z"
    }
   },
   "source": [
    "bar_acceptance_rate = data_bar['Y'].mean()\n",
    "bar_acceptance_rate"
   ],
   "outputs": [
    {
     "data": {
      "text/plain": [
       "0.41001487357461575"
      ]
     },
     "execution_count": 212,
     "metadata": {},
     "output_type": "execute_result"
    }
   ],
   "execution_count": 212
  },
  {
   "cell_type": "markdown",
   "metadata": {},
   "source": [
    "3. Compare the acceptance rate between those who went to a bar 3 or fewer times a month to those who went more.\n"
   ]
  },
  {
   "cell_type": "code",
   "metadata": {
    "ExecuteTime": {
     "end_time": "2024-07-13T02:15:50.614287Z",
     "start_time": "2024-07-13T02:15:50.609718Z"
    }
   },
   "source": [
    "data_bar.loc[:, 'frequent_bar'] = data_bar['Bar'].map(lambda x: '>3' if x in ['4~8', 'gt8'] else '<=3') # add a column with bar visit frequency\n",
    "\n",
    "acceptance_rates = data_bar.groupby('frequent_bar')['Y'].mean()\n",
    "print(acceptance_rates)"
   ],
   "outputs": [
    {
     "name": "stdout",
     "output_type": "stream",
     "text": [
      "frequent_bar\n",
      "<=3    0.370737\n",
      ">3     0.768844\n",
      "Name: Y, dtype: float64\n"
     ]
    }
   ],
   "execution_count": 218
  },
  {
   "cell_type": "markdown",
   "metadata": {},
   "source": [
    "4. Compare the acceptance rate between drivers who go to a bar more than once a month and are over the age of 25 to the all others.  Is there a difference?\n"
   ]
  },
  {
   "cell_type": "code",
   "metadata": {
    "ExecuteTime": {
     "end_time": "2024-07-13T02:24:56.402291Z",
     "start_time": "2024-07-13T02:24:56.397824Z"
    }
   },
   "source": [
    "data_bar.loc[:,'age_25_bar'] = ((data_bar['Bar'] != 'never') & (data_bar['Bar'] != 'less1') & (data_bar['age'].isin(['26', '31', '36', '41', '46', '50plus']))).astype(int)\n",
    "\n",
    "acceptance_rates = data_bar.groupby('age_25_bar')['Y'].mean()\n",
    "print(acceptance_rates)"
   ],
   "outputs": [
    {
     "name": "stdout",
     "output_type": "stream",
     "text": [
      "age_25_bar\n",
      "0    0.335003\n",
      "1    0.695238\n",
      "Name: Y, dtype: float64\n"
     ]
    }
   ],
   "execution_count": 226
  },
  {
   "cell_type": "markdown",
   "metadata": {},
   "source": [
    "5. Use the same process to compare the acceptance rate between drivers who go to bars more than once a month and had passengers that were not a kid and had occupations other than farming, fishing, or forestry. \n"
   ]
  },
  {
   "cell_type": "code",
   "metadata": {
    "ExecuteTime": {
     "end_time": "2024-07-13T02:33:58.475868Z",
     "start_time": "2024-07-13T02:33:58.471154Z"
    }
   },
   "source": [
    "data_bar.loc[:,'urbansocial_bar'] = (\n",
    "    (data_bar['Bar'] != 'never') & \n",
    "    (data_bar['Bar'] != 'less1') & \n",
    "    (data_bar['passenger'] != 'Kid(s)') &\n",
    "    (~data_bar['occupation'].isin(['Farming Fishing & Forestry']))\n",
    ").astype(int)\n",
    "\n",
    "acceptance_rates = data_bar.groupby('urbansocial_bar')['Y'].mean()\n",
    "print(acceptance_rates)\n"
   ],
   "outputs": [
    {
     "name": "stdout",
     "output_type": "stream",
     "text": [
      "urbansocial_bar\n",
      "0    0.296044\n",
      "1    0.713249\n",
      "Name: Y, dtype: float64\n"
     ]
    }
   ],
   "execution_count": 236
  },
  {
   "cell_type": "markdown",
   "metadata": {},
   "source": [
    "6. Compare the acceptance rates between those drivers who:\n",
    "\n",
    "- go to bars more than once a month, had passengers that were not a kid, and were not widowed *OR*\n",
    "- go to bars more than once a month and are under the age of 30 *OR*\n",
    "- go to cheap restaurants more than 4 times a month and income is less than 50K. \n",
    "\n"
   ]
  },
  {
   "cell_type": "code",
   "metadata": {
    "ExecuteTime": {
     "end_time": "2024-07-13T03:02:43.118468Z",
     "start_time": "2024-07-13T03:02:43.112616Z"
    }
   },
   "source": [
    "conditions = [\n",
    "    # group 1\n",
    "    ((data_bar['Bar'] != 'never') & (data_bar['Bar'] != 'less1') & \n",
    "     (data_bar['passenger'] != 'Kid(s)') & (data_bar['maritalStatus'] != 'Widowed')),\n",
    "    # group 2\n",
    "    ((data_bar['Bar'] != 'never') & (data_bar['Bar'] != 'less1') & \n",
    "     (data_bar['age'].isin(['21', '26']))),\n",
    "    # group 3\n",
    "    ((data_bar['RestaurantLessThan20'].isin(['4~8', 'gt8'])) & \n",
    "     (data_bar['income'].isin(['Less than $12500', '$12500 - $24999', '$25000 - $37499', '$37500 - $49999'])))\n",
    "]\n",
    "choices = ['group1', 'group2', 'group3']\n",
    "data_bar.loc[:, 'target_group_bar'] = np.select(conditions, choices, default='Others')\n",
    "\n",
    "acceptance_rates = data_bar.groupby('target_group_bar')['Y'].mean()\n",
    "print(acceptance_rates)"
   ],
   "outputs": [
    {
     "name": "stdout",
     "output_type": "stream",
     "text": [
      "target_group_bar\n",
      "Others    0.297166\n",
      "group1    0.713249\n",
      "group2    0.777778\n",
      "group3    0.270270\n",
      "Name: Y, dtype: float64\n"
     ]
    }
   ],
   "execution_count": 250
  },
  {
   "cell_type": "markdown",
   "metadata": {},
   "source": [
    "7.  Based on these observations, what do you hypothesize about drivers who accepted the bar coupons?"
   ]
  },
  {
   "metadata": {},
   "cell_type": "markdown",
   "source": [
    "**Frequency of bar visits**  \n",
    "Drivers who visit bars more frequently are more likely to accept bar coupons.  \n",
    "\n",
    "**Age**  \n",
    "Younger drivers, particularly those under 30, are more likely to accept bar coupons.\n",
    "\n",
    "**Passengers**  \n",
    "Drivers with adult passengers are more likely to accept bar coupons than those with children.\n",
    "\n",
    "**Marital status**  \n",
    "Single or unmarried individuals are more likely to accept bar coupons compared to married or widowed individuals.\n",
    "\n",
    "**Income**  \n",
    "There might be a relationship between income and bar coupon acceptance, but it's not straightforward.\n",
    "\n",
    "**Occupation**  \n",
    "Certain occupations might be associated with higher bar coupon acceptance rates.\n",
    "\n",
    "**Time of day**  \n",
    "Bar coupons might be more readily accepted in the evening or at night compared to during the day.\n",
    "\n",
    "**Proximity to destination**  \n",
    "Drivers might be more likely to accept bar coupons if they're already headed in the direction of the bar or if it's convenient to their current route.\n",
    "\n",
    "**Social factors**  \n",
    "Drivers who are more socially active or have larger social networks might be more likely to accept bar coupons.\n",
    "\n",
    "**Price sensitivity**  \n",
    "More price-sensitive individuals might be more likely to accept bar coupons."
   ]
  },
  {
   "cell_type": "markdown",
   "metadata": {},
   "source": [
    "### Independent Investigation\n",
    "\n",
    "Using the bar coupon example as motivation, you are to explore one of the other coupon groups and try to determine the characteristics of passengers who accept the coupons.  "
   ]
  },
  {
   "cell_type": "code",
   "metadata": {
    "ExecuteTime": {
     "end_time": "2024-07-13T00:42:48.111090Z",
     "start_time": "2024-07-13T00:42:48.109622Z"
    }
   },
   "source": [],
   "outputs": [],
   "execution_count": 147
  },
  {
   "cell_type": "code",
   "metadata": {
    "ExecuteTime": {
     "end_time": "2024-07-13T00:42:48.114115Z",
     "start_time": "2024-07-13T00:42:48.112592Z"
    }
   },
   "source": [],
   "outputs": [],
   "execution_count": 147
  },
  {
   "cell_type": "code",
   "metadata": {
    "ExecuteTime": {
     "end_time": "2024-07-13T00:42:48.117278Z",
     "start_time": "2024-07-13T00:42:48.115736Z"
    }
   },
   "source": [],
   "outputs": [],
   "execution_count": 147
  },
  {
   "cell_type": "code",
   "metadata": {
    "ExecuteTime": {
     "end_time": "2024-07-13T00:42:48.119770Z",
     "start_time": "2024-07-13T00:42:48.118214Z"
    }
   },
   "source": [],
   "outputs": [],
   "execution_count": 147
  },
  {
   "cell_type": "code",
   "metadata": {
    "ExecuteTime": {
     "end_time": "2024-07-13T00:42:48.122603Z",
     "start_time": "2024-07-13T00:42:48.121351Z"
    }
   },
   "source": [],
   "outputs": [],
   "execution_count": 147
  }
 ],
 "metadata": {
  "kernelspec": {
   "display_name": "Python 3",
   "language": "python",
   "name": "python3"
  },
  "language_info": {
   "codemirror_mode": {
    "name": "ipython",
    "version": 3
   },
   "file_extension": ".py",
   "mimetype": "text/x-python",
   "name": "python",
   "nbconvert_exporter": "python",
   "pygments_lexer": "ipython3",
   "version": "3.8.8"
  },
  "widgets": {
   "application/vnd.jupyter.widget-state+json": {
    "state": {},
    "version_major": 2,
    "version_minor": 0
   }
  }
 },
 "nbformat": 4,
 "nbformat_minor": 4
}
